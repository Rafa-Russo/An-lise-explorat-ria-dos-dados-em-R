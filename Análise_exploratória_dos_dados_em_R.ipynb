{
  "nbformat": 4,
  "nbformat_minor": 0,
  "metadata": {
    "colab": {
      "provenance": [],
      "authorship_tag": "ABX9TyN+C0ieM9BSatGoFBKBEiud",
      "include_colab_link": true
    },
    "kernelspec": {
      "name": "ir",
      "display_name": "R"
    },
    "language_info": {
      "name": "R"
    }
  },
  "cells": [
    {
      "cell_type": "markdown",
      "metadata": {
        "id": "view-in-github",
        "colab_type": "text"
      },
      "source": [
        "<a href=\"https://colab.research.google.com/github/Rafa-Russo/An-lise-explorat-ria-dos-dados-em-R/blob/main/An%C3%A1lise_explorat%C3%B3ria_dos_dados_em_R.ipynb\" target=\"_parent\"><img src=\"https://colab.research.google.com/assets/colab-badge.svg\" alt=\"Open In Colab\"/></a>"
      ]
    },
    {
      "cell_type": "markdown",
      "source": [
        "# Usando funções pré-programadas na linguagem R com base de dados em torno de 15 itens."
      ],
      "metadata": {
        "id": "32nLw9L6A2k5"
      }
    },
    {
      "cell_type": "markdown",
      "source": [
        "Definindo a lista de 15 itens agora."
      ],
      "metadata": {
        "id": "jXoSyh7WCXBk"
      }
    },
    {
      "cell_type": "code",
      "source": [
        "list <- c(2,5,3,9,1,11,13,7,17,20,12,15,8)"
      ],
      "metadata": {
        "id": "_QJCroepCdMy"
      },
      "execution_count": 20,
      "outputs": []
    },
    {
      "cell_type": "markdown",
      "source": [
        "Agora vamos calcular a Média."
      ],
      "metadata": {
        "id": "-6naPo0qC7H9"
      }
    },
    {
      "cell_type": "code",
      "source": [
        "mean(list)"
      ],
      "metadata": {
        "colab": {
          "base_uri": "https://localhost:8080/",
          "height": 34
        },
        "id": "3UckrsyZDAIA",
        "outputId": "a4599b93-23aa-4297-8de9-c03ad0d99b5b"
      },
      "execution_count": 21,
      "outputs": [
        {
          "output_type": "display_data",
          "data": {
            "text/html": [
              "9.46153846153846"
            ],
            "text/markdown": "9.46153846153846",
            "text/latex": "9.46153846153846",
            "text/plain": [
              "[1] 9.461538"
            ]
          },
          "metadata": {}
        }
      ]
    },
    {
      "cell_type": "markdown",
      "source": [
        "Agora iremos calcular a Mediana."
      ],
      "metadata": {
        "id": "e2xhgShKDbzw"
      }
    },
    {
      "cell_type": "code",
      "source": [
        "median(list)"
      ],
      "metadata": {
        "colab": {
          "base_uri": "https://localhost:8080/",
          "height": 34
        },
        "id": "BA0FTSQCDeyH",
        "outputId": "b5570ea6-c7d3-4da4-f0a8-bd8d71b4153b"
      },
      "execution_count": 22,
      "outputs": [
        {
          "output_type": "display_data",
          "data": {
            "text/html": [
              "9"
            ],
            "text/markdown": "9",
            "text/latex": "9",
            "text/plain": [
              "[1] 9"
            ]
          },
          "metadata": {}
        }
      ]
    },
    {
      "cell_type": "markdown",
      "source": [
        "Agora vamos calcular a Variância."
      ],
      "metadata": {
        "id": "FiYvw4JADoB_"
      }
    },
    {
      "cell_type": "code",
      "source": [
        "var(list)"
      ],
      "metadata": {
        "colab": {
          "base_uri": "https://localhost:8080/",
          "height": 34
        },
        "id": "eHMTpg6dDsxd",
        "outputId": "f5bf5522-60e9-493e-a074-a8c3a3aa95b9"
      },
      "execution_count": 23,
      "outputs": [
        {
          "output_type": "display_data",
          "data": {
            "text/html": [
              "34.7692307692308"
            ],
            "text/markdown": "34.7692307692308",
            "text/latex": "34.7692307692308",
            "text/plain": [
              "[1] 34.76923"
            ]
          },
          "metadata": {}
        }
      ]
    },
    {
      "cell_type": "markdown",
      "source": [
        "Agora vamos calcular o Desvio Padrão."
      ],
      "metadata": {
        "id": "wdV8GVKvEtg4"
      }
    },
    {
      "cell_type": "code",
      "source": [
        "des <- function(lista) {\n",
        "  variancia <- var(lista)\n",
        "  return (sqrt(variancia))\n",
        "}\n",
        "\n",
        "des(list)"
      ],
      "metadata": {
        "colab": {
          "base_uri": "https://localhost:8080/",
          "height": 34
        },
        "id": "TKccIUjEE0Zi",
        "outputId": "9815ce30-bd59-4f8a-b488-dd2857043f54"
      },
      "execution_count": 24,
      "outputs": [
        {
          "output_type": "display_data",
          "data": {
            "text/html": [
              "5.89654396822671"
            ],
            "text/markdown": "5.89654396822671",
            "text/latex": "5.89654396822671",
            "text/plain": [
              "[1] 5.896544"
            ]
          },
          "metadata": {}
        }
      ]
    },
    {
      "cell_type": "markdown",
      "source": [
        "Agora vamos calcular o Coeficiente de Variação."
      ],
      "metadata": {
        "id": "jE6LLrbDGFQ0"
      }
    },
    {
      "cell_type": "code",
      "source": [
        "coef <- function(lista) {\n",
        "  des(lista)/mean(lista)*100\n",
        "}\n",
        "\n",
        "coef(list)"
      ],
      "metadata": {
        "colab": {
          "base_uri": "https://localhost:8080/",
          "height": 34
        },
        "id": "Zo3P-xJRGPeR",
        "outputId": "caf714f3-90bf-42fa-de16-ffb78502936d"
      },
      "execution_count": 25,
      "outputs": [
        {
          "output_type": "display_data",
          "data": {
            "text/html": [
              "62.3211964121522"
            ],
            "text/markdown": "62.3211964121522",
            "text/latex": "62.3211964121522",
            "text/plain": [
              "[1] 62.3212"
            ]
          },
          "metadata": {}
        }
      ]
    },
    {
      "cell_type": "markdown",
      "source": [
        "Agora vamos calcular o Quartis."
      ],
      "metadata": {
        "id": "BhSanITHICFD"
      }
    },
    {
      "cell_type": "code",
      "source": [
        "quantile(list)"
      ],
      "metadata": {
        "colab": {
          "base_uri": "https://localhost:8080/",
          "height": 34
        },
        "id": "wwjbGdYGIGwl",
        "outputId": "f55f6711-a180-4e31-a7f0-391d6d08c68d"
      },
      "execution_count": 26,
      "outputs": [
        {
          "output_type": "display_data",
          "data": {
            "text/html": [
              "<style>\n",
              ".dl-inline {width: auto; margin:0; padding: 0}\n",
              ".dl-inline>dt, .dl-inline>dd {float: none; width: auto; display: inline-block}\n",
              ".dl-inline>dt::after {content: \":\\0020\"; padding-right: .5ex}\n",
              ".dl-inline>dt:not(:first-of-type) {padding-left: .5ex}\n",
              "</style><dl class=dl-inline><dt>0%</dt><dd>1</dd><dt>25%</dt><dd>5</dd><dt>50%</dt><dd>9</dd><dt>75%</dt><dd>13</dd><dt>100%</dt><dd>20</dd></dl>\n"
            ],
            "text/markdown": "0%\n:   125%\n:   550%\n:   975%\n:   13100%\n:   20\n\n",
            "text/latex": "\\begin{description*}\n\\item[0\\textbackslash{}\\%] 1\n\\item[25\\textbackslash{}\\%] 5\n\\item[50\\textbackslash{}\\%] 9\n\\item[75\\textbackslash{}\\%] 13\n\\item[100\\textbackslash{}\\%] 20\n\\end{description*}\n",
            "text/plain": [
              "  0%  25%  50%  75% 100% \n",
              "   1    5    9   13   20 "
            ]
          },
          "metadata": {}
        }
      ]
    },
    {
      "cell_type": "markdown",
      "source": [
        "Agora vamos calcular o Histograma."
      ],
      "metadata": {
        "id": "gS0MQ_e2IieF"
      }
    },
    {
      "cell_type": "code",
      "source": [
        "hist(list)"
      ],
      "metadata": {
        "colab": {
          "base_uri": "https://localhost:8080/",
          "height": 437
        },
        "id": "1Zp07-9ZIlYI",
        "outputId": "0f2374dc-2d91-4cd6-f31e-78488644a3e1"
      },
      "execution_count": 27,
      "outputs": [
        {
          "output_type": "display_data",
          "data": {
            "text/plain": [
              "Plot with title “Histogram of list”"
            ],
            "image/png": "[encoded data removed]"
          },
          "metadata": {
            "image/png": {
              "width": 420,
              "height": 420
            }
          }
        }
      ]
    },
    {
      "cell_type": "markdown",
      "source": [
        "Agora vamos fazer um Box Plot."
      ],
      "metadata": {
        "id": "QEBFt79mJ3ud"
      }
    },
    {
      "cell_type": "code",
      "source": [
        "boxplot(list, col=\"red\", ylab=\"List numbers\", main=\"Boxplot\", border=\"black\", notch=T, pch=19)"
      ],
      "metadata": {
        "colab": {
          "base_uri": "https://localhost:8080/",
          "height": 437
        },
        "id": "ievsJXyQJ7Mi",
        "outputId": "d956eac1-1046-429e-c0d4-066bf7f2c1b7"
      },
      "execution_count": 29,
      "outputs": [
        {
          "output_type": "display_data",
          "data": {
            "text/plain": [
              "Plot with title “Boxplot”"
            ],
            "image/png": "[encoded data removed]"
          },
          "metadata": {
            "image/png": {
              "width": 420,
              "height": 420
            }
          }
        }
      ]
    },
    {
      "cell_type": "markdown",
      "source": [
        "# Usando funções programadas por mim com base de dados em torno de 15 itens."
      ],
      "metadata": {
        "id": "ma4mi7y0KWMh"
      }
    },
    {
      "cell_type": "markdown",
      "source": [
        "Vamos definir a lista novamente."
      ],
      "metadata": {
        "id": "JZh4Kt5qO8hg"
      }
    },
    {
      "cell_type": "code",
      "source": [
        "list <- c(2,5,3,9,1,11,13,7,17,20,12,15,8)"
      ],
      "metadata": {
        "id": "gqB2AfPbOCxg"
      },
      "execution_count": null,
      "outputs": []
    },
    {
      "cell_type": "markdown",
      "source": [
        "Primeiro vamos calcular a Média."
      ],
      "metadata": {
        "id": "seBlgyV9KjhL"
      }
    },
    {
      "cell_type": "code",
      "source": [
        " medi <- function(lista) {\n",
        "    somaTotal = 0\n",
        "    for (i in lista){\n",
        "      somaTotal = somaTotal + i\n",
        "    }\n",
        "    return (somaTotal/length(lista))\n",
        " }\n",
        " medi(list)"
      ],
      "metadata": {
        "colab": {
          "base_uri": "https://localhost:8080/",
          "height": 34
        },
        "id": "PXvld6A_KuWs",
        "outputId": "1afc9da6-b903-41cd-f819-56db1588a67b"
      },
      "execution_count": null,
      "outputs": [
        {
          "output_type": "display_data",
          "data": {
            "text/html": [
              "9.46153846153846"
            ],
            "text/markdown": "9.46153846153846",
            "text/latex": "9.46153846153846",
            "text/plain": [
              "[1] 9.461538"
            ]
          },
          "metadata": {}
        }
      ]
    },
    {
      "cell_type": "markdown",
      "source": [
        "Agora vamos calcular a Mediana."
      ],
      "metadata": {
        "id": "iXHS57TePAWX"
      }
    },
    {
      "cell_type": "code",
      "source": [
        "med <- function(lista) {\n",
        "  sortedList <- sort(lista)\n",
        "  len <- length(sortedList)\n",
        "  middle <- ceiling(len/2)\n",
        "  return (sortedList[middle])\n",
        "}\n",
        "\n",
        "med(list)"
      ],
      "metadata": {
        "colab": {
          "base_uri": "https://localhost:8080/",
          "height": 34
        },
        "id": "W6IoX86_PEfO",
        "outputId": "b15767fa-715e-4602-9380-930930f877d2"
      },
      "execution_count": null,
      "outputs": [
        {
          "output_type": "display_data",
          "data": {
            "text/html": [
              "9"
            ],
            "text/markdown": "9",
            "text/latex": "9",
            "text/plain": [
              "[1] 9"
            ]
          },
          "metadata": {}
        }
      ]
    },
    {
      "cell_type": "markdown",
      "source": [
        "Agora vamos calcular a Variância."
      ],
      "metadata": {
        "id": "I6M-pJ1zQ8Y8"
      }
    },
    {
      "cell_type": "code",
      "source": [
        "vari <- function(lista) {\n",
        "  num <- length(lista)\n",
        "  media <- medi(lista)\n",
        "  somaTotal = 0\n",
        "  for (i in lista) {\n",
        "    somaTotal = somaTotal + (i - media)**2\n",
        "  }\n",
        "  return (somaTotal/num)\n",
        "}\n",
        "vari(list)"
      ],
      "metadata": {
        "colab": {
          "base_uri": "https://localhost:8080/",
          "height": 34
        },
        "id": "LAkW1-WsfUIn",
        "outputId": "a2730d48-37bb-4aa9-dabe-ac7c84976a8a"
      },
      "execution_count": null,
      "outputs": [
        {
          "output_type": "display_data",
          "data": {
            "text/html": [
              "32.094674556213"
            ],
            "text/markdown": "32.094674556213",
            "text/latex": "32.094674556213",
            "text/plain": [
              "[1] 32.09467"
            ]
          },
          "metadata": {}
        }
      ]
    },
    {
      "cell_type": "markdown",
      "source": [
        "Agora vamos calcular o Desvio Padrão."
      ],
      "metadata": {
        "id": "SiGI-khFj9sm"
      }
    },
    {
      "cell_type": "code",
      "source": [
        "desv <- function(lista) {\n",
        "  num <- vari(lista)\n",
        "  desv <- sqrt(num)\n",
        "  return (desv)\n",
        "}\n",
        "desv(list)"
      ],
      "metadata": {
        "colab": {
          "base_uri": "https://localhost:8080/",
          "height": 34
        },
        "id": "wSzn_wT7kB21",
        "outputId": "63bd522d-0685-4e6e-8cbe-94b86537869f"
      },
      "execution_count": null,
      "outputs": [
        {
          "output_type": "display_data",
          "data": {
            "text/html": [
              "5.66521619677599"
            ],
            "text/markdown": "5.66521619677599",
            "text/latex": "5.66521619677599",
            "text/plain": [
              "[1] 5.665216"
            ]
          },
          "metadata": {}
        }
      ]
    },
    {
      "cell_type": "markdown",
      "source": [
        "Agora vamos calcular o Coeficiente de Variação."
      ],
      "metadata": {
        "id": "dzJ3TSjDki-B"
      }
    },
    {
      "cell_type": "code",
      "source": [
        "coef <- function(lista) {\n",
        "  num = desv(lista)/medi(lista)*100\n",
        "  return (num)\n",
        "}\n",
        "coef(list)"
      ],
      "metadata": {
        "colab": {
          "base_uri": "https://localhost:8080/",
          "height": 34
        },
        "id": "JrXbFDJGkwGY",
        "outputId": "36a4c2f6-79c5-4535-b2fe-69d00632cf59"
      },
      "execution_count": null,
      "outputs": [
        {
          "output_type": "display_data",
          "data": {
            "text/html": [
              "59.8762687464129"
            ],
            "text/markdown": "59.8762687464129",
            "text/latex": "59.8762687464129",
            "text/plain": [
              "[1] 59.87627"
            ]
          },
          "metadata": {}
        }
      ]
    },
    {
      "cell_type": "markdown",
      "source": [
        "# Usando funções pré-programadas na linguagem R com base de dados real."
      ],
      "metadata": {
        "id": "9pHLY_-p0Iqi"
      }
    },
    {
      "cell_type": "markdown",
      "source": [
        "###A base de dados que eu irei usar é a de velocidades de internet por país."
      ],
      "metadata": {
        "id": "eXmE_Xkc0aG1"
      }
    },
    {
      "cell_type": "code",
      "source": [
        "db <- read.csv(file = 'https://raw.githubusercontent.com/Rafa-Russo/An-lise-explorat-ria-dos-dados-em-R/main/Internet%20Speed%202022.csv')\n",
        "head(db)"
      ],
      "metadata": {
        "colab": {
          "base_uri": "https://localhost:8080/",
          "height": 286
        },
        "id": "7dKzfXJihRje",
        "outputId": "b687119d-44fd-4a31-8999-4ccb15d0f91c"
      },
      "execution_count": 5,
      "outputs": [
        {
          "output_type": "display_data",
          "data": {
            "text/html": [
              "<table class=\"dataframe\">\n",
              "<caption>A data.frame: 6 × 3</caption>\n",
              "<thead>\n",
              "\t<tr><th></th><th scope=col>country</th><th scope=col>broadband</th><th scope=col>mobile</th></tr>\n",
              "\t<tr><th></th><th scope=col>&lt;chr&gt;</th><th scope=col>&lt;dbl&gt;</th><th scope=col>&lt;dbl&gt;</th></tr>\n",
              "</thead>\n",
              "<tbody>\n",
              "\t<tr><th scope=row>1</th><td>Monaco     </td><td>261.82</td><td>    NA</td></tr>\n",
              "\t<tr><th scope=row>2</th><td>Singapore  </td><td>255.83</td><td>105.01</td></tr>\n",
              "\t<tr><th scope=row>3</th><td>Hong Kong  </td><td>254.70</td><td> 83.58</td></tr>\n",
              "\t<tr><th scope=row>4</th><td>Romania    </td><td>232.17</td><td> 59.67</td></tr>\n",
              "\t<tr><th scope=row>5</th><td>Switzerland</td><td>229.96</td><td>135.70</td></tr>\n",
              "\t<tr><th scope=row>6</th><td>Denmark    </td><td>227.91</td><td>112.03</td></tr>\n",
              "</tbody>\n",
              "</table>\n"
            ],
            "text/markdown": "\nA data.frame: 6 × 3\n\n| <!--/--> | country &lt;chr&gt; | broadband &lt;dbl&gt; | mobile &lt;dbl&gt; |\n|---|---|---|---|\n| 1 | Monaco      | 261.82 |     NA |\n| 2 | Singapore   | 255.83 | 105.01 |\n| 3 | Hong Kong   | 254.70 |  83.58 |\n| 4 | Romania     | 232.17 |  59.67 |\n| 5 | Switzerland | 229.96 | 135.70 |\n| 6 | Denmark     | 227.91 | 112.03 |\n\n",
            "text/latex": "A data.frame: 6 × 3\n\\begin{tabular}{r|lll}\n  & country & broadband & mobile\\\\\n  & <chr> & <dbl> & <dbl>\\\\\n\\hline\n\t1 & Monaco      & 261.82 &     NA\\\\\n\t2 & Singapore   & 255.83 & 105.01\\\\\n\t3 & Hong Kong   & 254.70 &  83.58\\\\\n\t4 & Romania     & 232.17 &  59.67\\\\\n\t5 & Switzerland & 229.96 & 135.70\\\\\n\t6 & Denmark     & 227.91 & 112.03\\\\\n\\end{tabular}\n",
            "text/plain": [
              "  country     broadband mobile\n",
              "1 Monaco      261.82        NA\n",
              "2 Singapore   255.83    105.01\n",
              "3 Hong Kong   254.70     83.58\n",
              "4 Romania     232.17     59.67\n",
              "5 Switzerland 229.96    135.70\n",
              "6 Denmark     227.91    112.03"
            ]
          },
          "metadata": {}
        }
      ]
    },
    {
      "cell_type": "markdown",
      "source": [
        "Agora vamos calcular a Média da velocidade da internet de banda larga."
      ],
      "metadata": {
        "id": "f-fVGyPjhtQ8"
      }
    },
    {
      "cell_type": "code",
      "source": [
        "mean(db$broadband)"
      ],
      "metadata": {
        "colab": {
          "base_uri": "https://localhost:8080/",
          "height": 34
        },
        "id": "jp-KleopiAIG",
        "outputId": "e4d48a58-647b-459a-91eb-81780d978989"
      },
      "execution_count": 6,
      "outputs": [
        {
          "output_type": "display_data",
          "data": {
            "text/html": [
              "72.6728248587571"
            ],
            "text/markdown": "72.6728248587571",
            "text/latex": "72.6728248587571",
            "text/plain": [
              "[1] 72.67282"
            ]
          },
          "metadata": {}
        }
      ]
    },
    {
      "cell_type": "markdown",
      "source": [
        "Agora vamos calcular a Mediana da internet de banda larga."
      ],
      "metadata": {
        "id": "FO0CqaoOiq73"
      }
    },
    {
      "cell_type": "code",
      "source": [
        "median(db$broadband)"
      ],
      "metadata": {
        "colab": {
          "base_uri": "https://localhost:8080/",
          "height": 34
        },
        "id": "dIeoV8xbi1C0",
        "outputId": "68be8bad-65db-4e32-f457-3cb10dfd4749"
      },
      "execution_count": 7,
      "outputs": [
        {
          "output_type": "display_data",
          "data": {
            "text/html": [
              "43.48"
            ],
            "text/markdown": "43.48",
            "text/latex": "43.48",
            "text/plain": [
              "[1] 43.48"
            ]
          },
          "metadata": {}
        }
      ]
    },
    {
      "cell_type": "markdown",
      "source": [
        "Agora vamos calcular a Variância da internet de banda larga."
      ],
      "metadata": {
        "id": "YxGCYnzqi7iD"
      }
    },
    {
      "cell_type": "code",
      "source": [
        "var(db$broadband)"
      ],
      "metadata": {
        "colab": {
          "base_uri": "https://localhost:8080/",
          "height": 34
        },
        "id": "NIMLIDGRjEOj",
        "outputId": "66d3f66b-fa36-4be1-851f-cc0874d84987"
      },
      "execution_count": 8,
      "outputs": [
        {
          "output_type": "display_data",
          "data": {
            "text/html": [
              "4417.16434765665"
            ],
            "text/markdown": "4417.16434765665",
            "text/latex": "4417.16434765665",
            "text/plain": [
              "[1] 4417.164"
            ]
          },
          "metadata": {}
        }
      ]
    },
    {
      "cell_type": "markdown",
      "source": [
        "Agora vamos calcular o Desvio Padrão da internet de banda larga."
      ],
      "metadata": {
        "id": "fNsiOV4UjM7N"
      }
    },
    {
      "cell_type": "code",
      "source": [
        "des <- function(lista) {\n",
        "  variancia <- var(lista)\n",
        "  return (sqrt(variancia))\n",
        "}\n",
        "\n",
        "des(db$broadband)"
      ],
      "metadata": {
        "colab": {
          "base_uri": "https://localhost:8080/",
          "height": 34
        },
        "id": "X9ciiGiDjTeY",
        "outputId": "4e87d36d-8f27-41ba-f7bb-e0c7451a48ab"
      },
      "execution_count": 9,
      "outputs": [
        {
          "output_type": "display_data",
          "data": {
            "text/html": [
              "66.4617510125685"
            ],
            "text/markdown": "66.4617510125685",
            "text/latex": "66.4617510125685",
            "text/plain": [
              "[1] 66.46175"
            ]
          },
          "metadata": {}
        }
      ]
    },
    {
      "cell_type": "markdown",
      "source": [
        "Agora vamos calcular o Coeficiente de Variação da internet de banda larga."
      ],
      "metadata": {
        "id": "iFbb18x9jeYX"
      }
    },
    {
      "cell_type": "code",
      "source": [
        "coef <- function(lista) {\n",
        "  des(lista)/mean(lista)*100\n",
        "}\n",
        "\n",
        "coef(db$broadband)"
      ],
      "metadata": {
        "colab": {
          "base_uri": "https://localhost:8080/",
          "height": 34
        },
        "id": "QXHkQT_SjjxN",
        "outputId": "6a481638-248f-43fa-e78d-1c9eb2526e64"
      },
      "execution_count": 10,
      "outputs": [
        {
          "output_type": "display_data",
          "data": {
            "text/html": [
              "91.4533749606403"
            ],
            "text/markdown": "91.4533749606403",
            "text/latex": "91.4533749606403",
            "text/plain": [
              "[1] 91.45337"
            ]
          },
          "metadata": {}
        }
      ]
    },
    {
      "cell_type": "markdown",
      "source": [
        "Agora vamos calcular o Quartis da internet de banda larga."
      ],
      "metadata": {
        "id": "VBsdlZR2jtZr"
      }
    },
    {
      "cell_type": "code",
      "source": [
        "quantile(db$broadband)"
      ],
      "metadata": {
        "colab": {
          "base_uri": "https://localhost:8080/",
          "height": 34
        },
        "id": "3EkFN0ypjyql",
        "outputId": "2bdf0ff6-193b-4d68-8b93-0c631a754fe4"
      },
      "execution_count": 11,
      "outputs": [
        {
          "output_type": "display_data",
          "data": {
            "text/html": [
              "<style>\n",
              ".dl-inline {width: auto; margin:0; padding: 0}\n",
              ".dl-inline>dt, .dl-inline>dd {float: none; width: auto; display: inline-block}\n",
              ".dl-inline>dt::after {content: \":\\0020\"; padding-right: .5ex}\n",
              ".dl-inline>dt:not(:first-of-type) {padding-left: .5ex}\n",
              "</style><dl class=dl-inline><dt>0%</dt><dd>4.01</dd><dt>25%</dt><dd>22.5</dd><dt>50%</dt><dd>43.48</dd><dt>75%</dt><dd>109.41</dd><dt>100%</dt><dd>261.82</dd></dl>\n"
            ],
            "text/markdown": "0%\n:   4.0125%\n:   22.550%\n:   43.4875%\n:   109.41100%\n:   261.82\n\n",
            "text/latex": "\\begin{description*}\n\\item[0\\textbackslash{}\\%] 4.01\n\\item[25\\textbackslash{}\\%] 22.5\n\\item[50\\textbackslash{}\\%] 43.48\n\\item[75\\textbackslash{}\\%] 109.41\n\\item[100\\textbackslash{}\\%] 261.82\n\\end{description*}\n",
            "text/plain": [
              "    0%    25%    50%    75%   100% \n",
              "  4.01  22.50  43.48 109.41 261.82 "
            ]
          },
          "metadata": {}
        }
      ]
    },
    {
      "cell_type": "markdown",
      "source": [
        "Agora vamos calcular o Histograma da internet de banda larga."
      ],
      "metadata": {
        "id": "tHt6QKYskD-o"
      }
    },
    {
      "cell_type": "code",
      "source": [
        "hist(db$broadband)"
      ],
      "metadata": {
        "colab": {
          "base_uri": "https://localhost:8080/",
          "height": 437
        },
        "id": "3s0XXq9MkIZL",
        "outputId": "188289d9-b4d7-4502-badc-5d3dbb5c5cb6"
      },
      "execution_count": 12,
      "outputs": [
        {
          "output_type": "display_data",
          "data": {
            "text/plain": [
              "Plot with title “Histogram of db$broadband”"
            ],
            "image/png": "[encoded data removed]"
          },
          "metadata": {
            "image/png": {
              "width": 420,
              "height": 420
            }
          }
        }
      ]
    },
    {
      "cell_type": "markdown",
      "source": [
        "Agora vamos calcular o Box Plot da internet de banda larga."
      ],
      "metadata": {
        "id": "g1se23TAkPgg"
      }
    },
    {
      "cell_type": "code",
      "source": [
        "boxplot(db$broadband, col=\"red\", ylab=\"List numbers\", main=\"Boxplot\", border=\"black\", notch=T, pch=19)"
      ],
      "metadata": {
        "colab": {
          "base_uri": "https://localhost:8080/",
          "height": 437
        },
        "id": "Q0K6hiWlkS3C",
        "outputId": "5fa38068-6195-44be-c57c-9734140639a2"
      },
      "execution_count": 15,
      "outputs": [
        {
          "output_type": "display_data",
          "data": {
            "text/plain": [
              "Plot with title “Boxplot”"
            ],
            "image/png": "[encoded data removed]"
          },
          "metadata": {
            "image/png": {
              "width": 420,
              "height": 420
            }
          }
        }
      ]
    },
    {
      "cell_type": "markdown",
      "source": [
        "#  Usando funções programadas por mim com uma base de dados real."
      ],
      "metadata": {
        "id": "8OrgwE9KlWBc"
      }
    },
    {
      "cell_type": "markdown",
      "source": [
        "###A base de dados que eu irei usar é a de velocidades de internet por país."
      ],
      "metadata": {
        "id": "2xe3Y_1Rl2F9"
      }
    },
    {
      "cell_type": "code",
      "source": [
        "db <- read.csv(file = 'https://raw.githubusercontent.com/Rafa-Russo/An-lise-explorat-ria-dos-dados-em-R/main/Internet%20Speed%202022.csv')\n",
        "head(db)"
      ],
      "metadata": {
        "colab": {
          "base_uri": "https://localhost:8080/",
          "height": 286
        },
        "outputId": "b687119d-44fd-4a31-8999-4ccb15d0f91c",
        "id": "nT4VqaFMl8jo"
      },
      "execution_count": null,
      "outputs": [
        {
          "output_type": "display_data",
          "data": {
            "text/html": [
              "<table class=\"dataframe\">\n",
              "<caption>A data.frame: 6 × 3</caption>\n",
              "<thead>\n",
              "\t<tr><th></th><th scope=col>country</th><th scope=col>broadband</th><th scope=col>mobile</th></tr>\n",
              "\t<tr><th></th><th scope=col>&lt;chr&gt;</th><th scope=col>&lt;dbl&gt;</th><th scope=col>&lt;dbl&gt;</th></tr>\n",
              "</thead>\n",
              "<tbody>\n",
              "\t<tr><th scope=row>1</th><td>Monaco     </td><td>261.82</td><td>    NA</td></tr>\n",
              "\t<tr><th scope=row>2</th><td>Singapore  </td><td>255.83</td><td>105.01</td></tr>\n",
              "\t<tr><th scope=row>3</th><td>Hong Kong  </td><td>254.70</td><td> 83.58</td></tr>\n",
              "\t<tr><th scope=row>4</th><td>Romania    </td><td>232.17</td><td> 59.67</td></tr>\n",
              "\t<tr><th scope=row>5</th><td>Switzerland</td><td>229.96</td><td>135.70</td></tr>\n",
              "\t<tr><th scope=row>6</th><td>Denmark    </td><td>227.91</td><td>112.03</td></tr>\n",
              "</tbody>\n",
              "</table>\n"
            ],
            "text/markdown": "\nA data.frame: 6 × 3\n\n| <!--/--> | country &lt;chr&gt; | broadband &lt;dbl&gt; | mobile &lt;dbl&gt; |\n|---|---|---|---|\n| 1 | Monaco      | 261.82 |     NA |\n| 2 | Singapore   | 255.83 | 105.01 |\n| 3 | Hong Kong   | 254.70 |  83.58 |\n| 4 | Romania     | 232.17 |  59.67 |\n| 5 | Switzerland | 229.96 | 135.70 |\n| 6 | Denmark     | 227.91 | 112.03 |\n\n",
            "text/latex": "A data.frame: 6 × 3\n\\begin{tabular}{r|lll}\n  & country & broadband & mobile\\\\\n  & <chr> & <dbl> & <dbl>\\\\\n\\hline\n\t1 & Monaco      & 261.82 &     NA\\\\\n\t2 & Singapore   & 255.83 & 105.01\\\\\n\t3 & Hong Kong   & 254.70 &  83.58\\\\\n\t4 & Romania     & 232.17 &  59.67\\\\\n\t5 & Switzerland & 229.96 & 135.70\\\\\n\t6 & Denmark     & 227.91 & 112.03\\\\\n\\end{tabular}\n",
            "text/plain": [
              "  country     broadband mobile\n",
              "1 Monaco      261.82        NA\n",
              "2 Singapore   255.83    105.01\n",
              "3 Hong Kong   254.70     83.58\n",
              "4 Romania     232.17     59.67\n",
              "5 Switzerland 229.96    135.70\n",
              "6 Denmark     227.91    112.03"
            ]
          },
          "metadata": {}
        }
      ]
    },
    {
      "cell_type": "markdown",
      "source": [
        "Primeiro, vamos calcular a Média da banda larga."
      ],
      "metadata": {
        "id": "slZZcW1olfq6"
      }
    },
    {
      "cell_type": "code",
      "source": [
        "medi <- function(lista) {\n",
        "    somaTotal = 0\n",
        "    for (i in lista){\n",
        "      somaTotal = somaTotal + i\n",
        "    }\n",
        "    return (somaTotal/length(lista))\n",
        " }\n",
        " medi(db$broadband)"
      ],
      "metadata": {
        "colab": {
          "base_uri": "https://localhost:8080/",
          "height": 34
        },
        "id": "ZHdO1URNlj9O",
        "outputId": "ade9befc-6cf8-4e86-c80f-f3f0a6cda097"
      },
      "execution_count": 30,
      "outputs": [
        {
          "output_type": "display_data",
          "data": {
            "text/html": [
              "72.6728248587571"
            ],
            "text/markdown": "72.6728248587571",
            "text/latex": "72.6728248587571",
            "text/plain": [
              "[1] 72.67282"
            ]
          },
          "metadata": {}
        }
      ]
    },
    {
      "cell_type": "markdown",
      "source": [
        "Agora vamos calcular a Mediana da internet de banda larga."
      ],
      "metadata": {
        "id": "2x6uKKlmmINd"
      }
    },
    {
      "cell_type": "code",
      "source": [
        "med <- function(lista) {\n",
        "  sortedList <- sort(lista)\n",
        "  len <- length(sortedList)\n",
        "  middle <- ceiling(len/2)\n",
        "  return (sortedList[middle])\n",
        "}\n",
        "\n",
        "med(db$broadband)"
      ],
      "metadata": {
        "colab": {
          "base_uri": "https://localhost:8080/",
          "height": 34
        },
        "id": "cykq98Aemf1b",
        "outputId": "e5786be6-ba3a-4c27-96e1-83a280a6c4db"
      },
      "execution_count": 31,
      "outputs": [
        {
          "output_type": "display_data",
          "data": {
            "text/html": [
              "43.48"
            ],
            "text/markdown": "43.48",
            "text/latex": "43.48",
            "text/plain": [
              "[1] 43.48"
            ]
          },
          "metadata": {}
        }
      ]
    },
    {
      "cell_type": "markdown",
      "source": [
        "Agora vamos calcular a Variância da internet de banda larga."
      ],
      "metadata": {
        "id": "dTeGblHzmK04"
      }
    },
    {
      "cell_type": "code",
      "source": [
        "vari <- function(lista) {\n",
        "  num <- length(lista)\n",
        "  media <- medi(lista)\n",
        "  somaTotal = 0\n",
        "  for (i in lista) {\n",
        "    somaTotal = somaTotal + (i - media)**2\n",
        "  }\n",
        "  return (somaTotal/num)\n",
        "}\n",
        "vari(db$broadband)"
      ],
      "metadata": {
        "colab": {
          "base_uri": "https://localhost:8080/",
          "height": 34
        },
        "id": "xWypAA1Cmod2",
        "outputId": "f8a57cd0-8dcf-4ce6-bdc0-8868f0acbccb"
      },
      "execution_count": 32,
      "outputs": [
        {
          "output_type": "display_data",
          "data": {
            "text/html": [
              "4392.20861687893"
            ],
            "text/markdown": "4392.20861687893",
            "text/latex": "4392.20861687893",
            "text/plain": [
              "[1] 4392.209"
            ]
          },
          "metadata": {}
        }
      ]
    },
    {
      "cell_type": "markdown",
      "source": [
        "Agora vamos calcular o Desvio Padrão da internet de banda larga."
      ],
      "metadata": {
        "id": "H5ZkW-RTmPFI"
      }
    },
    {
      "cell_type": "code",
      "source": [
        "desv <- function(lista) {\n",
        "  num <- vari(lista)\n",
        "  desv <- sqrt(num)\n",
        "  return (desv)\n",
        "}\n",
        "desv(db$broadband)"
      ],
      "metadata": {
        "colab": {
          "base_uri": "https://localhost:8080/",
          "height": 34
        },
        "id": "3yNIubLbmxQ5",
        "outputId": "dfa76bda-d483-4e9b-a6f7-96a0156fa87d"
      },
      "execution_count": 34,
      "outputs": [
        {
          "output_type": "display_data",
          "data": {
            "text/html": [
              "66.2737400248313"
            ],
            "text/markdown": "66.2737400248313",
            "text/latex": "66.2737400248313",
            "text/plain": [
              "[1] 66.27374"
            ]
          },
          "metadata": {}
        }
      ]
    },
    {
      "cell_type": "markdown",
      "source": [
        "Agora vamos calcular o Coeficiente de Variação da internet de banda larga."
      ],
      "metadata": {
        "id": "yjM9E6NPmQ6x"
      }
    },
    {
      "cell_type": "code",
      "source": [
        "coef <- function(lista) {\n",
        "  num = desv(lista)/medi(lista)*100\n",
        "  return (num)\n",
        "}\n",
        "coef(db$broadband)"
      ],
      "metadata": {
        "colab": {
          "base_uri": "https://localhost:8080/",
          "height": 34
        },
        "id": "0CRhg45Wm0wT",
        "outputId": "bbad635b-5e3a-4205-9dc8-6c59fa7c249c"
      },
      "execution_count": 35,
      "outputs": [
        {
          "output_type": "display_data",
          "data": {
            "text/html": [
              "91.1946661680447"
            ],
            "text/markdown": "91.1946661680447",
            "text/latex": "91.1946661680447",
            "text/plain": [
              "[1] 91.19467"
            ]
          },
          "metadata": {}
        }
      ]
    },
    {
      "cell_type": "markdown",
      "source": [
        "Agora vamos calcular o Quartis da internet de banda larga."
      ],
      "metadata": {
        "id": "WX9IOdMNmSuK"
      }
    },
    {
      "cell_type": "code",
      "source": [],
      "metadata": {
        "id": "0Fgy49YWm1T6"
      },
      "execution_count": null,
      "outputs": []
    },
    {
      "cell_type": "markdown",
      "source": [
        "Agora vamos calcular o Histograma da internet de banda larga."
      ],
      "metadata": {
        "id": "Zt3zs2uJmVAS"
      }
    },
    {
      "cell_type": "code",
      "source": [],
      "metadata": {
        "id": "sacIRWj2m1w2"
      },
      "execution_count": null,
      "outputs": []
    },
    {
      "cell_type": "markdown",
      "source": [
        "Agora vamos calcular o Box Plot da internet de banda larga."
      ],
      "metadata": {
        "id": "0zYSGUpfmXhz"
      }
    },
    {
      "cell_type": "code",
      "source": [],
      "metadata": {
        "id": "-v0OtFLMm2OF"
      },
      "execution_count": null,
      "outputs": []
    }
  ]
}